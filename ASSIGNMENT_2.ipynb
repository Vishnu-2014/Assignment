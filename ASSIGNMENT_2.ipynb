{
 "cells": [
  {
   "cell_type": "markdown",
   "id": "d3a17f7b",
   "metadata": {},
   "source": [
    "# 1"
   ]
  },
  {
   "cell_type": "code",
   "execution_count": 3,
   "id": "3e5f6439",
   "metadata": {},
   "outputs": [
    {
     "data": {
      "text/plain": [
       "(True, False)"
      ]
     },
     "execution_count": 3,
     "metadata": {},
     "output_type": "execute_result"
    }
   ],
   "source": [
    "#1.What are the two values of the Boolean data type? How do you write them?\n",
    "True , False\n"
   ]
  },
  {
   "cell_type": "markdown",
   "id": "c6cae9a0",
   "metadata": {},
   "source": [
    "# 2"
   ]
  },
  {
   "cell_type": "code",
   "execution_count": null,
   "id": "d5227161",
   "metadata": {},
   "outputs": [],
   "source": [
    "#2. What are the three different types of Boolean operators?\n",
    "\n",
    "The AND operator (&&)\n",
    "The OR operator (||)\n",
    "The NOT operator (not)"
   ]
  },
  {
   "cell_type": "markdown",
   "id": "9c3f3e36",
   "metadata": {},
   "source": [
    "# 3"
   ]
  },
  {
   "cell_type": "code",
   "execution_count": null,
   "id": "57a9084f",
   "metadata": {},
   "outputs": [],
   "source": [
    "#3. Make a list of each Boolean operators truth tables (i.e. every possible combination of Boolean\n",
    "#values for the operator and what it evaluate ).\n",
    "\n",
    "1.AND Truth Table\n",
    "\n",
    "   X  Y  AND\n",
    "   0  0   0\n",
    "   0  1   0\n",
    "   1  0   0\n",
    "   1  1   1\n",
    "    \n",
    "2.OR Truth Table\n",
    "\n",
    "   X  Y   OR\n",
    "   0  0   0\n",
    "   0  1   1\n",
    "   1  0   1\n",
    "   1  1   1\n",
    "    \n",
    "3.NOT Truth Table\n",
    "\n",
    "  X  NOT\n",
    "  0   1\n",
    "  1   0"
   ]
  },
  {
   "cell_type": "markdown",
   "id": "387c69d5",
   "metadata": {},
   "source": [
    "# 4"
   ]
  },
  {
   "cell_type": "code",
   "execution_count": 4,
   "id": "28bcbe5a",
   "metadata": {},
   "outputs": [
    {
     "name": "stdout",
     "output_type": "stream",
     "text": [
      "False False True False False True\n"
     ]
    }
   ],
   "source": [
    "#4. What are the values of the following expressions?\n",
    "a=(5 > 4) and (3 == 5)\n",
    "b=not (5 > 4)\n",
    "c=(5 > 4) or (3 == 5)\n",
    "d=not ((5 > 4) or (3 == 5))\n",
    "e=(True and True) and (True == False)\n",
    "f=(not False) or (not True)\n",
    "print(a,b,c,d,e,f)"
   ]
  },
  {
   "cell_type": "markdown",
   "id": "8b2d7406",
   "metadata": {},
   "source": [
    "# 5"
   ]
  },
  {
   "cell_type": "code",
   "execution_count": null,
   "id": "051e7358",
   "metadata": {},
   "outputs": [],
   "source": [
    "#5. What are the six comparison operators?\n",
    "\n",
    "the six comparision operators are \n",
    "\n",
    "1.equal to(==)\n",
    "2.not equal to(!=)\n",
    "3.greater than(>)\n",
    "4.greater than or equal to(>=)\n",
    "5.less than(<)\n",
    "6.less than or equal to(<=)"
   ]
  },
  {
   "cell_type": "markdown",
   "id": "fd4dca63",
   "metadata": {},
   "source": [
    "# 6"
   ]
  },
  {
   "cell_type": "code",
   "execution_count": 5,
   "id": "a3a6e807",
   "metadata": {},
   "outputs": [
    {
     "name": "stdout",
     "output_type": "stream",
     "text": [
      "yes\n"
     ]
    }
   ],
   "source": [
    "#6. How do you tell the difference between the equal to and assignment operators?Describe a\n",
    "#condition and when you would use one.\n",
    "\n",
    "\"\"\"The difference between assignment operator and equal to is that assignment operator stores values whereas equal to compares the values or variables\n",
    "\"\"\"\n",
    "\n",
    "#EXAMPLE:\n",
    "    \n",
    "a=10   #---> it is an assignment opertor\n",
    "b=10\n",
    "if a==b:   #---> it is an equal to\n",
    "    print(\"yes\")"
   ]
  },
  {
   "cell_type": "markdown",
   "id": "d27a583d",
   "metadata": {},
   "source": [
    "# 7"
   ]
  },
  {
   "cell_type": "code",
   "execution_count": 6,
   "id": "d84e9a05",
   "metadata": {},
   "outputs": [
    {
     "name": "stdout",
     "output_type": "stream",
     "text": [
      "spam\n",
      "eggs\n",
      "ham\n",
      "spam\n"
     ]
    }
   ],
   "source": [
    "#Q:8. Identify the three blocks in this code:\n",
    "\n",
    "spam = 0\n",
    "if spam == 10:\n",
    "    print('eggs')\n",
    "    if spam > 5:\n",
    "        print('bacon')\n",
    "    else:\n",
    "        print('ham')\n",
    "    print('spam')\n",
    "print('spam')\n",
    "\n",
    "\n",
    "\n",
    "#The three blocks are everything inside the if statement and the lines print('bacon') and print('ham').\n",
    "\n",
    "print('eggs')\n",
    "if spam > 5:\n",
    "    print('bacon')\n",
    "else:\n",
    "    print('ham')\n",
    "print('spam')"
   ]
  },
  {
   "cell_type": "markdown",
   "id": "9bf3a699",
   "metadata": {},
   "source": [
    "# 8"
   ]
  },
  {
   "cell_type": "code",
   "execution_count": 8,
   "id": "e2e48948",
   "metadata": {},
   "outputs": [
    {
     "name": "stdout",
     "output_type": "stream",
     "text": [
      "avf\n",
      "greetings\n"
     ]
    }
   ],
   "source": [
    "#8. Write code that prints Hello if 1 is stored in spam, prints Howdy if 2 is stored in spam, and prints\n",
    "#Greetings! if anything else is stored in spam.\n",
    "\n",
    "spam=(input())\n",
    "if spam==1:\n",
    "    print(\"Hello\")\n",
    "elif spam==2:\n",
    "    print(\"Howdy\")\n",
    "else:\n",
    "    print(\"greetings\")"
   ]
  },
  {
   "cell_type": "markdown",
   "id": "207df056",
   "metadata": {},
   "source": [
    "# 9"
   ]
  },
  {
   "cell_type": "code",
   "execution_count": null,
   "id": "7f848aa5",
   "metadata": {},
   "outputs": [],
   "source": [
    "#9.If your programme is stuck in an endless loop, what keys you’ll press?\n",
    "\n",
    "  ctrl-C"
   ]
  },
  {
   "cell_type": "markdown",
   "id": "9f7f7ad1",
   "metadata": {},
   "source": [
    "# 10"
   ]
  },
  {
   "cell_type": "code",
   "execution_count": 9,
   "id": "a563e421",
   "metadata": {
    "collapsed": true
   },
   "outputs": [
    {
     "ename": "SyntaxError",
     "evalue": "invalid syntax (<ipython-input-9-c2c978b37406>, line 4)",
     "output_type": "error",
     "traceback": [
      "\u001b[1;36m  File \u001b[1;32m\"<ipython-input-9-c2c978b37406>\"\u001b[1;36m, line \u001b[1;32m4\u001b[0m\n\u001b[1;33m    \"break statement\" = This statement terminates the smallest enclosing loop (i.e., while, do-while, for loop, or switch statement)\u001b[0m\n\u001b[1;37m                             ^\u001b[0m\n\u001b[1;31mSyntaxError\u001b[0m\u001b[1;31m:\u001b[0m invalid syntax\n"
     ]
    }
   ],
   "source": [
    "#10. How can you tell the difference between break and continue?\n",
    "\n",
    "\n",
    "\"break statement\" = This statement terminates the smallest enclosing loop (i.e., while, do-while, for loop, or switch statement)\n",
    "\"continue statement\" = This statement skips the rest of the loop statement and starts the next iteration of the loop to take place"
   ]
  },
  {
   "cell_type": "markdown",
   "id": "566faf9b",
   "metadata": {},
   "source": [
    "# 11"
   ]
  },
  {
   "cell_type": "code",
   "execution_count": null,
   "id": "20814491",
   "metadata": {},
   "outputs": [],
   "source": [
    "#11. In a for loop, what is the difference between range(10), range(0, 10), and range(0, 10, 1)?\n",
    "\n",
    "There is no difference in the three functions because all three will do the same functionalities"
   ]
  },
  {
   "cell_type": "markdown",
   "id": "b08fb8e7",
   "metadata": {},
   "source": [
    "# 12"
   ]
  },
  {
   "cell_type": "code",
   "execution_count": 14,
   "id": "6ff40b2d",
   "metadata": {},
   "outputs": [
    {
     "name": "stdout",
     "output_type": "stream",
     "text": [
      "for loop\n",
      "1\n",
      "2\n",
      "3\n",
      "4\n",
      "5\n",
      "6\n",
      "7\n",
      "8\n",
      "9\n",
      "10\n",
      "while loop\n",
      "1\n",
      "2\n",
      "3\n",
      "4\n",
      "5\n",
      "6\n",
      "7\n",
      "8\n",
      "9\n",
      "10\n"
     ]
    }
   ],
   "source": [
    "#12. Write a short program that prints the numbers 1 to 10 using a for loop. Then write an equivalent\n",
    "#program that prints the numbers 1 to 10 using a while loop.\n",
    "\n",
    "#A for loop\n",
    "print(\"for loop\")\n",
    "a=[1,2,3,4,5,6,7,8,9,10]\n",
    "for i in a:\n",
    "    print(i)\n",
    "    \n",
    "    \n",
    "    \n",
    "print(\"while loop\")\n",
    "#A while loop\n",
    "a=1\n",
    "while a<=10:\n",
    "    print(a)\n",
    "    a=a+1"
   ]
  },
  {
   "cell_type": "markdown",
   "id": "7edf78ce",
   "metadata": {},
   "source": [
    "# 13"
   ]
  },
  {
   "cell_type": "code",
   "execution_count": null,
   "id": "e9620c3e",
   "metadata": {},
   "outputs": [],
   "source": [
    "#13. If you had a function named bacon() inside a module named spam, how would you call it after importing spam?\n",
    "\n",
    "import spam\n",
    "a = spam.bacon()"
   ]
  }
 ],
 "metadata": {
  "kernelspec": {
   "display_name": "Python 3",
   "language": "python",
   "name": "python3"
  },
  "language_info": {
   "codemirror_mode": {
    "name": "ipython",
    "version": 3
   },
   "file_extension": ".py",
   "mimetype": "text/x-python",
   "name": "python",
   "nbconvert_exporter": "python",
   "pygments_lexer": "ipython3",
   "version": "3.8.8"
  }
 },
 "nbformat": 4,
 "nbformat_minor": 5
}
